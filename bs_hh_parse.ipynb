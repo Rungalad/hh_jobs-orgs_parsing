{
  "nbformat": 4,
  "nbformat_minor": 0,
  "metadata": {
    "colab": {
      "name": "bs_hh_parse",
      "provenance": [],
      "collapsed_sections": []
    },
    "kernelspec": {
      "name": "python3",
      "display_name": "Python 3"
    }
  },
  "cells": [
    {
      "cell_type": "code",
      "metadata": {
        "id": "PPslsAQxMJsP"
      },
      "source": [
        "from bs4 import BeautifulSoup\r\n",
        "import requests\r\n",
        "import re\r\n",
        "import json\r\n",
        "import os\r\n",
        "\r\n",
        "root_url = r'http://ufa.hh.ru'\r\n",
        "HEADERS = {'User-Agent': 'Mozilla/5.0 (Windows NT 6.1; Win64; x64) AppleWebKit/537.36 (KHTML, like Gecko) Chrome/87.0.4280.141 Safari/537.36 OPR/73.0.3856.344'}"
      ],
      "execution_count": 47,
      "outputs": []
    },
    {
      "cell_type": "code",
      "metadata": {
        "id": "9Rck9WnLL3Il"
      },
      "source": [
        "def clean_text(string, no_list=[r'\\r', r'\\t', r\"\"\"<div data-qa=\\\"resume-block-experience-description\\\">\"\"\", r'</div>', r'•']):\r\n",
        "  if not isinstance(string, str):\r\n",
        "    string = str(string)\r\n",
        "  return re.sub('|'.join(no_list), '', string)"
      ],
      "execution_count": 48,
      "outputs": []
    },
    {
      "cell_type": "code",
      "metadata": {
        "id": "_yIabZIUzC_J"
      },
      "source": [
        "def parse_hh_cv(cv_url):\r\n",
        "\r\n",
        "    json = {'href': cv_url,\r\n",
        "            'exp': [],  \r\n",
        "            'edu': []}\r\n",
        "    html = requests.get(cv_url, headers=HEADERS)\r\n",
        "    html = html.text\r\n",
        "    soup = BeautifulSoup(html, 'lxml')\r\n",
        "\r\n",
        "    exp_all = soup.find_all('div', {'data-qa': 'resume-block-experience'})\r\n",
        "    exp_jobs_orgs = list(map(lambda x: x.text, exp_all[0].find_all('div', {'class': 'bloko-text-emphasis'})))\r\n",
        "    exp_jobs_orgs = list(zip(exp_jobs_orgs[::2], exp_jobs_orgs[1::2]))\r\n",
        "    exp_info = list(map(lambda x: clean_text(x).split('\\n'), exp_all[0].find_all('div', {'data-qa': 'resume-block-experience-description'})))\r\n",
        "    exp_info = list(zip(exp_jobs_orgs, exp_info))\r\n",
        "\r\n",
        "    for i, j in exp_info:\r\n",
        "        base_exp = {'org': '', 'job': '', 'all_data': ''}\r\n",
        "        base_exp['org'] = i[0]\r\n",
        "        base_exp['job'] = i[1]\r\n",
        "        base_exp['all_data'] = j\r\n",
        "        json['exp'].append(base_exp)\r\n",
        "\r\n",
        "    edu_all = soup.find_all('div', {'data-qa': 'resume-block-education'}) # bloko-text-emphasis\r\n",
        "    edu_orgs = list(map(lambda x: x.text, edu_all[0].find_all('div', {'data-qa': 'resume-block-education-name'})))\r\n",
        "    edu_job = list(map(lambda x: x.text, edu_all[0].find_all('div', {'data-qa': 'resume-block-education-organization'})))\r\n",
        "    edu_all = list(zip(edu_orgs, edu_job))\r\n",
        "\r\n",
        "    for i, j in edu_all:\r\n",
        "        base_edu = {'org': '', 'facility': ''}\r\n",
        "        base_edu['org'] = i\r\n",
        "        base_edu['facility'] = j\r\n",
        "        json['edu'].append(base_edu)\r\n",
        "\r\n",
        "    return json"
      ],
      "execution_count": 49,
      "outputs": []
    },
    {
      "cell_type": "code",
      "metadata": {
        "id": "9lP7vf45FXOk"
      },
      "source": [
        "#parse_hh_cv(r'https://ufa.hh.ru/resume/1893ce2e00074d4e330039ed1f547a494f4a6d?hhtmFrom=resume_search_result')"
      ],
      "execution_count": 51,
      "outputs": []
    },
    {
      "cell_type": "code",
      "metadata": {
        "id": "pg0d05gdOgj8"
      },
      "source": [
        "def write_json(path=r'/content/drive/MyDrive/SberProjs/hh_cvs/hh_cvs_page_%s.json', max_page=250):\r\n",
        "\r\n",
        "    directory, name = os.path.split(path)\r\n",
        "\r\n",
        "    for PAGE_NUM in range(max_page+1):\r\n",
        "\r\n",
        "        url = f'https://hh.ru/search/resume?clusters=true&no_magic=true&ored_clusters=true&search_period=30&order_by=publication_time&page={PAGE_NUM}' \r\n",
        "\r\n",
        "        html = requests.get(url, headers=HEADERS)\r\n",
        "        html = html.text\r\n",
        "        soup = BeautifulSoup(html, 'lxml')\r\n",
        "\r\n",
        "        div_tags = soup.find_all('a', {'class': 'resume-search-item__name'})\r\n",
        "        refs = [re.compile(r'(?<=href=)\\\"[^ ]+\\\"').findall(str(i))[0][1:-1] for i in div_tags]\r\n",
        "        refs = list(filter(lambda x: x and 'resume' in x, refs))\r\n",
        "\r\n",
        "        print('page №', PAGE_NUM)\r\n",
        "        resumes = []\r\n",
        "        for i in refs:\r\n",
        "            try:\r\n",
        "              dict_json = parse_hh_cv(root_url + i)\r\n",
        "            except:\r\n",
        "              print(root_url + i)\r\n",
        "              continue\r\n",
        "            resumes.append(dict_json)\r\n",
        "        \r\n",
        "        json.dump(resumes, open(path%PAGE_NUM, 'w', encoding='utf-8'))\r\n",
        "        print('Saved!')\r\n",
        "\r\n",
        "    # return resumes\r\n"
      ],
      "execution_count": 58,
      "outputs": []
    },
    {
      "cell_type": "code",
      "metadata": {
        "id": "WdwLQsq29uxo"
      },
      "source": [
        "#parse_hh_cv(r'https://ufa.hh.ru/resume/4f6a69f60001ab56990039ed1f4559647a4e4b?hhtmFrom=resume_search_result')"
      ],
      "execution_count": 59,
      "outputs": []
    },
    {
      "cell_type": "code",
      "metadata": {
        "colab": {
          "base_uri": "https://localhost:8080/"
        },
        "id": "aob7vMi7fgzd",
        "outputId": "c05c217e-fcb2-4f8c-8464-9269b767b7f9"
      },
      "source": [
        "q = write_json()"
      ],
      "execution_count": null,
      "outputs": [
        {
          "output_type": "stream",
          "text": [
            "page № 0\n",
            "Saved!\n",
            "page № 1\n",
            "Saved!\n",
            "page № 2\n",
            "http://ufa.hh.ru/resume/8d4f6bb900081b17c50039ed1f6b654459304f?hhtmFrom=resume_search_result\n",
            "Saved!\n",
            "page № 3\n",
            "Saved!\n",
            "page № 4\n",
            "http://ufa.hh.ru/resume/9dde043a0008a275cd0039ed1f723044566b38?hhtmFrom=resume_search_result\n",
            "Saved!\n",
            "page № 5\n",
            "http://ufa.hh.ru/resume/89013b560008a7d8930039ed1f44506761486b?hhtmFrom=resume_search_result\n",
            "Saved!\n",
            "page № 6\n",
            "http://ufa.hh.ru/resume/d90be8ba0008b7e9a30039ed1f426779546166?hhtmFrom=resume_search_result\n",
            "Saved!\n",
            "page № 7\n",
            "http://ufa.hh.ru/resume/fe9b92880008bcbf6d0039ed1f79467571476c?hhtmFrom=resume_search_result\n",
            "Saved!\n",
            "page № 8\n",
            "http://ufa.hh.ru/resume/fe9b92880008bcbf6d0039ed1f79467571476c?hhtmFrom=resume_search_result\n",
            "Saved!\n",
            "page № 9\n",
            "http://ufa.hh.ru/resume/3829c0bc00085bed4a0039ed1f34756a747171?hhtmFrom=resume_search_result\n",
            "http://ufa.hh.ru/resume/7ce20c070002821a290039ed1f364a6a6e6e58?hhtmFrom=resume_search_result\n",
            "http://ufa.hh.ru/resume/df84448200033621ae0039ed1f63624a373062?hhtmFrom=resume_search_result\n",
            "Saved!\n",
            "page № 10\n",
            "http://ufa.hh.ru/resume/c2a2a49400082c15ee0039ed1f53426a47594d?hhtmFrom=resume_search_result\n",
            "http://ufa.hh.ru/resume/b177389d000881082b0039ed1f313562505275?hhtmFrom=resume_search_result\n",
            "Saved!\n",
            "page № 11\n",
            "http://ufa.hh.ru/resume/9055c5b600089903890039ed1f6f6e31566436?hhtmFrom=resume_search_result\n",
            "Saved!\n",
            "page № 12\n",
            "http://ufa.hh.ru/resume/143d8a3d0008af82f90039ed1f4a52756f7938?hhtmFrom=resume_search_result\n",
            "Saved!\n",
            "page № 13\n",
            "http://ufa.hh.ru/resume/e9144ba70008223fd60039ed1f376634554537?hhtmFrom=resume_search_result\n",
            "Saved!\n",
            "page № 14\n",
            "Saved!\n",
            "page № 15\n",
            "Saved!\n",
            "page № 16\n",
            "http://ufa.hh.ru/resume/6d0e838e0008bcab610039ed1f4b5167444858?hhtmFrom=resume_search_result\n",
            "http://ufa.hh.ru/resume/1779a06400080986da0039ed1f6e6d666e4176?hhtmFrom=resume_search_result\n",
            "Saved!\n",
            "page № 17\n",
            "http://ufa.hh.ru/resume/6d0e838e0008bcab610039ed1f4b5167444858?hhtmFrom=resume_search_result\n",
            "http://ufa.hh.ru/resume/1779a06400080986da0039ed1f6e6d666e4176?hhtmFrom=resume_search_result\n",
            "Saved!\n",
            "page № 18\n",
            "Saved!\n",
            "page № 19\n",
            "Saved!\n",
            "page № 20\n",
            "Saved!\n",
            "page № 21\n",
            "Saved!\n",
            "page № 22\n",
            "Saved!\n",
            "page № 23\n",
            "Saved!\n",
            "page № 24\n",
            "http://ufa.hh.ru/resume/87aa61ac0008bda76d0039ed1f56514b537174?hhtmFrom=resume_search_result\n",
            "Saved!\n",
            "page № 25\n",
            "http://ufa.hh.ru/resume/54eeb4cf00081c19e40039ed1f6e4b45636d4a?hhtmFrom=resume_search_result\n",
            "Saved!\n",
            "page № 26\n",
            "http://ufa.hh.ru/resume/6bd6eea9000835a48e0039ed1f4d6779353867?hhtmFrom=resume_search_result\n",
            "http://ufa.hh.ru/resume/57fc33ad00076208810039ed1f6372395a3145?hhtmFrom=resume_search_result\n",
            "http://ufa.hh.ru/resume/bb4ed1b70008b3ef9a0039ed1f7058374f646f?hhtmFrom=resume_search_result\n",
            "Saved!\n",
            "page № 27\n",
            "Saved!\n",
            "page № 28\n",
            "http://ufa.hh.ru/resume/33836fa5000439fec00039ed1f416a4f725767?hhtmFrom=resume_search_result\n",
            "Saved!\n",
            "page № 29\n",
            "http://ufa.hh.ru/resume/49454e86000876badd0039ed1f646238716e76?hhtmFrom=resume_search_result\n",
            "http://ufa.hh.ru/resume/33836fa5000439fec00039ed1f416a4f725767?hhtmFrom=resume_search_result\n",
            "Saved!\n",
            "page № 30\n",
            "http://ufa.hh.ru/resume/4e62233000083b166e0039ed1f766738444e58?hhtmFrom=resume_search_result\n",
            "Saved!\n",
            "page № 31\n",
            "http://ufa.hh.ru/resume/fa27a87c000719a7fa0039ed1f587446377955?hhtmFrom=resume_search_result\n",
            "http://ufa.hh.ru/resume/43569de30008750e320039ed1f543637514165?hhtmFrom=resume_search_result\n",
            "Saved!\n",
            "page № 32\n",
            "Saved!\n",
            "page № 33\n",
            "http://ufa.hh.ru/resume/cfdf9d8000064aef450039ed1f335370494e78?hhtmFrom=resume_search_result\n",
            "Saved!\n",
            "page № 34\n",
            "Saved!\n",
            "page № 35\n",
            "Saved!\n",
            "page № 36\n",
            "Saved!\n",
            "page № 37\n",
            "Saved!\n",
            "page № 38\n",
            "http://ufa.hh.ru/resume/f9f3d11d00083b1b7a0039ed1f6b5155497858?hhtmFrom=resume_search_result\n",
            "Saved!\n",
            "page № 39\n",
            "Saved!\n",
            "page № 40\n",
            "http://ufa.hh.ru/resume/1c9a94ed0008564ff30039ed1f7a316a4b5972?hhtmFrom=resume_search_result\n",
            "http://ufa.hh.ru/resume/bef0fc920008bd0efd0039ed1f634b36356d71?hhtmFrom=resume_search_result\n",
            "http://ufa.hh.ru/resume/ce831d8c0008b2be130039ed1f794648343750?hhtmFrom=resume_search_result\n",
            "Saved!\n",
            "page № 41\n",
            "Saved!\n",
            "page № 42\n",
            "http://ufa.hh.ru/resume/596d349600086f09980039ed1f7a3369594a38?hhtmFrom=resume_search_result\n",
            "Saved!\n",
            "page № 43\n",
            "Saved!\n",
            "page № 44\n",
            "Saved!\n",
            "page № 45\n",
            "http://ufa.hh.ru/resume/adcd1e2d0008a85a440039ed1f444667306162?hhtmFrom=resume_search_result\n",
            "Saved!\n",
            "page № 46\n"
          ],
          "name": "stdout"
        }
      ]
    },
    {
      "cell_type": "code",
      "metadata": {
        "colab": {
          "base_uri": "https://localhost:8080/"
        },
        "id": "Upgz2K3q783c",
        "outputId": "07d0afda-fd68-4f90-bf9d-d32a246877fd"
      },
      "source": [
        "url = f'https://hh.ru/search/resume?' \r\n",
        "\r\n",
        "html = requests.get(r'https://hh.ru/search/resume?clusters=true&no_magic=true&ored_clusters=true&search_period=30&order_by=publication_time&page=0', headers=HEADERS)\r\n",
        "html = html.text\r\n",
        "soup = BeautifulSoup(html, 'lxml')\r\n",
        "\r\n",
        "div_tags = soup.find_all('a', {'class': 'resume-search-item__name'})\r\n",
        "refs = [re.compile(r'(?<=href=)\\\"[^ ]+\\\"').findall(str(i))[0][1:-1] for i in div_tags]\r\n",
        "refs = list(filter(lambda x: x and 'resume' in x, refs))\r\n",
        "\r\n",
        "print(refs)"
      ],
      "execution_count": 53,
      "outputs": [
        {
          "output_type": "stream",
          "text": [
            "['/resume/0b3008f700042aca2a0039ed1f386246367a50?hhtmFrom=resume_search_result', '/resume/6d6499be0007cdb9e50039ed1f41336141794b?hhtmFrom=resume_search_result', '/resume/9bd6a0fe00073a57dc0039ed1f705a664d306f?hhtmFrom=resume_search_result', '/resume/b255a1f3000223bb970039ed1f6c45314c5138?hhtmFrom=resume_search_result', '/resume/8460e19100087fe05b0039ed1f414c42385138?hhtmFrom=resume_search_result', '/resume/98a137be0000d719d90039ed1f6e6f62566342?hhtmFrom=resume_search_result', '/resume/90e9da5d00020dc70e0039ed1f6b3875683349?hhtmFrom=resume_search_result', '/resume/67ae69ce00089281ea0039ed1f4a67637a5872?hhtmFrom=resume_search_result', '/resume/1908f2ea000324aec10039ed1f6c4641797245?hhtmFrom=resume_search_result', '/resume/e4b0b7610000ef66d00039ed1f306167573852?hhtmFrom=resume_search_result', '/resume/4e8b01a400013fa7500039ed1f534f7942486d?hhtmFrom=resume_search_result', '/resume/6de23ec000019c4d920039ed1f463446674c76?hhtmFrom=resume_search_result', '/resume/3d18d3ed0005d2f8580039ed1f716d33786679?hhtmFrom=resume_search_result', '/resume/25a7c78100078b05b20039ed1f57426447476f?hhtmFrom=resume_search_result', '/resume/19c102ce00058fb7a10039ed1f355338316641?hhtmFrom=resume_search_result', '/resume/9db272c50005b309880039ed1f566676465652?hhtmFrom=resume_search_result', '/resume/7774f0690007b5f0580039ed1f4c4848796850?hhtmFrom=resume_search_result', '/resume/b52654360008a2d71b0039ed1f52316134764e?hhtmFrom=resume_search_result', '/resume/4baebcdf0007c6d6330039ed1f667a6f6d5430?hhtmFrom=resume_search_result', '/resume/6d271a6c0007fe11ed0039ed1f4e5933343846?hhtmFrom=resume_search_result']\n"
          ],
          "name": "stdout"
        }
      ]
    },
    {
      "cell_type": "code",
      "metadata": {
        "colab": {
          "base_uri": "https://localhost:8080/"
        },
        "id": "atK8PCHP2b-M",
        "outputId": "be17d626-66f4-482d-daeb-bead4fb35c23"
      },
      "source": [
        "len(json.load(open(r'/content/drive/MyDrive/SberProjs/hh_cvs.json', 'r', encoding='utf-8')))"
      ],
      "execution_count": 57,
      "outputs": [
        {
          "output_type": "execute_result",
          "data": {
            "text/plain": [
              "20"
            ]
          },
          "metadata": {
            "tags": []
          },
          "execution_count": 57
        }
      ]
    },
    {
      "cell_type": "code",
      "metadata": {
        "colab": {
          "base_uri": "https://localhost:8080/"
        },
        "id": "6q8Sp0s6tzPi",
        "outputId": "92870cac-2269-4667-bc84-d8d493153e0f"
      },
      "source": [
        "parse_hh_cv()"
      ],
      "execution_count": null,
      "outputs": [
        {
          "output_type": "execute_result",
          "data": {
            "text/plain": [
              "{'edu': [{'facility': 'механико-машиностроительный, Программное обеспечение вычислительной техники и автоматизированных систем',\n",
              "   'org': 'Саратовский государственный технический университет им. Ю.А. Гагарина, Саратов'}],\n",
              " 'exp': [{'all_data': ['- администрирование 120 рабочих станций: диагностика программной и аппаратной части, консультирование пользователей, установка и настройка периферийного оборудования, устранение неполадок в системе Windows, Linux, Server, поддержку работы сети Интернет, АТС, резервное копирование данных',\n",
              "    '- организация закупки компьютеров и оргтехники;',\n",
              "    '- составление технической документации;',\n",
              "    '- составление отчетов'],\n",
              "   'job': 'Системный администратор',\n",
              "   'org': 'государственное учреждение здравоохранения \"Энгельсская городская поликлиника №1\"'},\n",
              "  {'all_data': ['- заключение договоров с юридическими лицами;',\n",
              "    '- коммерческие предложения;',\n",
              "    '- организация закупки компьютеров и оргтехники;',\n",
              "    '- диагностика программной и аппаратной части:',\n",
              "    '- выполнение роли выделенного инженера;',\n",
              "    '- поддержка рабочих станций (100 единиц);',\n",
              "    '- консультирование пользователей;',\n",
              "    '- установка и настройка офисного оборудования (принтеры, сканеры и т.д.);',\n",
              "    '- устранение неполадок в системе Windows, Linux, Server;',\n",
              "    '- обеспечение работоспособности сети TCP/IP;',\n",
              "    '- настройка и обслуживание серверов;',\n",
              "    '- ремонт оргтехники(мфу, принтеры);',\n",
              "    '- заправка и ремонт картриджей:'],\n",
              "   'job': 'Системный администратор',\n",
              "   'org': 'ООО «Инфо-Сервис»'},\n",
              "  {'all_data': ['- обслуживание юридических и физических лиц в офисе компании;',\n",
              "    '- диагностика и ремонт компьютерной и оргтехники;',\n",
              "    '-заправка и восстановление картриджей;',\n",
              "    '- установка необходимого программного обеспечения;',\n",
              "    '- учёт техники;',\n",
              "    '-консультирование клиентов.'],\n",
              "   'job': 'Технический специалист',\n",
              "   'org': 'ООО «Городской Компьютерный Центр»'}],\n",
              " 'href': 'http://hh.ru/resume/c00a6264000299d2e70039ed1f376142347273?hhtmFrom=resume_search_result'}"
            ]
          },
          "metadata": {
            "tags": []
          },
          "execution_count": 185
        }
      ]
    },
    {
      "cell_type": "code",
      "metadata": {
        "colab": {
          "base_uri": "https://localhost:8080/"
        },
        "id": "DugglkxRrEMn",
        "outputId": "4f685204-ce07-4f5f-eff3-a7fef37be05f"
      },
      "source": [
        "import json, os\r\n",
        "from itertools import chain\r\n",
        "\r\n",
        "q = []\r\n",
        "\r\n",
        "for i in os.listdir(r'/content/drive/MyDrive/SberProjs/hh_cvs'):\r\n",
        "    t = [i['href'] for i in json.load(open(os.path.join(r'/content/drive/MyDrive/SberProjs/hh_cvs', i), 'r'))]\r\n",
        "    q.append(t)\r\n",
        "\r\n",
        "Q = list(chain(*q))"
      ],
      "execution_count": null,
      "outputs": [
        {
          "output_type": "execute_result",
          "data": {
            "text/plain": [
              "{'edu': [{'facility': '', 'org': ''},\n",
              "  {'facility': 'механико-машиностроительный, Программное обеспечение вычислительной техники и автоматизированных систем',\n",
              "   'org': 'Саратовский государственный технический университет им. Ю.А. Гагарина, Саратов'}],\n",
              " 'exp': [{'all_data': ['- администрирование 120 рабочих станций: диагностика программной и аппаратной части, консультирование пользователей, установка и настройка периферийного оборудования, устранение неполадок в системе Windows, Linux, Server, поддержку работы сети Интернет, АТС, резервное копирование данных',\n",
              "    '- организация закупки компьютеров и оргтехники;',\n",
              "    '- составление технической документации;',\n",
              "    '- составление отчетов'],\n",
              "   'job': 'Системный администратор',\n",
              "   'org': 'государственное учреждение здравоохранения \"Энгельсская городская поликлиника №1\"'},\n",
              "  {'all_data': ['- заключение договоров с юридическими лицами;',\n",
              "    '- коммерческие предложения;',\n",
              "    '- организация закупки компьютеров и оргтехники;',\n",
              "    '- диагностика программной и аппаратной части:',\n",
              "    '- выполнение роли выделенного инженера;',\n",
              "    '- поддержка рабочих станций (100 единиц);',\n",
              "    '- консультирование пользователей;',\n",
              "    '- установка и настройка офисного оборудования (принтеры, сканеры и т.д.);',\n",
              "    '- устранение неполадок в системе Windows, Linux, Server;',\n",
              "    '- обеспечение работоспособности сети TCP/IP;',\n",
              "    '- настройка и обслуживание серверов;',\n",
              "    '- ремонт оргтехники(мфу, принтеры);',\n",
              "    '- заправка и ремонт картриджей:'],\n",
              "   'job': 'Системный администратор',\n",
              "   'org': 'ООО «Инфо-Сервис»'},\n",
              "  {'all_data': ['- обслуживание юридических и физических лиц в офисе компании;',\n",
              "    '- диагностика и ремонт компьютерной и оргтехники;',\n",
              "    '-заправка и восстановление картриджей;',\n",
              "    '- установка необходимого программного обеспечения;',\n",
              "    '- учёт техники;',\n",
              "    '-консультирование клиентов.'],\n",
              "   'job': 'Технический специалист',\n",
              "   'org': 'ООО «Городской Компьютерный Центр»'}]}"
            ]
          },
          "metadata": {
            "tags": []
          },
          "execution_count": 180
        }
      ]
    },
    {
      "cell_type": "code",
      "metadata": {
        "colab": {
          "base_uri": "https://localhost:8080/"
        },
        "id": "fvDMcRUSLTCv",
        "outputId": "48930fe6-a855-4c28-b581-f75feabb6bc1"
      },
      "source": [
        "exp_info[0]"
      ],
      "execution_count": null,
      "outputs": [
        {
          "output_type": "execute_result",
          "data": {
            "text/plain": [
              "(('ООО ГеоКИН', 'Дизайнер'),\n",
              " [\"('Ферст Стрим Бизнес ', 'Помощник руководителя')\"])"
            ]
          },
          "metadata": {
            "tags": []
          },
          "execution_count": 149
        }
      ]
    },
    {
      "cell_type": "code",
      "metadata": {
        "colab": {
          "base_uri": "https://localhost:8080/"
        },
        "id": "udR1xrp1ymhF",
        "outputId": "0ecd8d8c-4220-45a5-c236-9c7e481ff7b8"
      },
      "source": [
        "[i.text for i in edu_orgs]"
      ],
      "execution_count": null,
      "outputs": [
        {
          "output_type": "execute_result",
          "data": {
            "text/plain": [
              "['Западно-Казахстанский Инженерно-Технологический Университет']"
            ]
          },
          "metadata": {
            "tags": []
          },
          "execution_count": 76
        }
      ]
    },
    {
      "cell_type": "code",
      "metadata": {
        "colab": {
          "base_uri": "https://localhost:8080/"
        },
        "id": "pXzJYWRgyshi",
        "outputId": "0faa4220-3bf1-4056-e757-114d4197ce9a"
      },
      "source": [
        "[i.text for i in edu_job]"
      ],
      "execution_count": null,
      "outputs": [
        {
          "output_type": "execute_result",
          "data": {
            "text/plain": [
              "['Финансы и кредит, экономист']"
            ]
          },
          "metadata": {
            "tags": []
          },
          "execution_count": 77
        }
      ]
    },
    {
      "cell_type": "code",
      "metadata": {
        "colab": {
          "base_uri": "https://localhost:8080/"
        },
        "id": "b9ADdRqAB0Jw",
        "outputId": "5a2f2e2f-98a3-453e-bc80-cc555c9a26de"
      },
      "source": [
        "for i in exp_info:\r\n",
        "  print(i)\r\n",
        "  print('*'*20)\r\n"
      ],
      "execution_count": null,
      "outputs": [
        {
          "output_type": "stream",
          "text": [
            "\n",
            "********************\n",
            "•Управление производственной деятельностью коллектива 35 человек. \n",
            "•\tОбеспечение выполнения производственного плана. \n",
            "•\tКонтроль соблюдения тех процесса. Контроль наладки и правильной эксплуатации оборудования. \n",
            "•\tЗаказ и контроль движения материалов и комплектующих (работа в ERP) \n",
            "•\tОтчётность перед руководством. \n",
            "•\tОтчётность в производственной операционной системе (ERP). \n",
            "•\tВзаимодействие с вспомогательными службами\n",
            "\n",
            "Ключевые показатели и достижения:\n",
            "•\tУвеличил производительность на 10% в результате устранения потерь времени на оборудовании. \n",
            "•\tВнедрил \"Бережливое производство\" на участке по производству колёсных пар, снизив количество брака.\n",
            "•\tв 2017 году запустил новую производственную линию. \n",
            "•\tСобрал и подготовил команду (35 человек), которая является лучшей бригадой цеха по производственным и профессиональным показателям. Средняя выработка за месяц выше на 5% чем в других сменах.\n",
            "•\tОбучил мастеров и бригадиров участка (8 человек) работе с системой ERP. (работе с производственными заказами, контроль остатков, движение материалов). Полученные ими навыки позволили контролировать выполнение плана, заказ и списание материалов, контролировать остатки на участке и избежать излишков незаконченного производства. НЗП снизился в среднем на 30%\n",
            "•\tПредложил схему складирования черновых осей и буксовых узлов в непосредственной близости с местами их загрузки в линию. Реализация данной схемы позволила разгрузить один вилочный электропогрузчик на 50%.\n",
            " •\t Подготовил преемника.</div>\n",
            "********************\n"
          ],
          "name": "stdout"
        }
      ]
    },
    {
      "cell_type": "code",
      "metadata": {
        "colab": {
          "base_uri": "https://localhost:8080/",
          "height": 35
        },
        "id": "T276J3yUCfK3",
        "outputId": "386a60fb-0f57-42e0-8830-0476ab73a3a3"
      },
      "source": [
        "re.sub('asd', '', 'asdassdasdasdvfvsdfv')"
      ],
      "execution_count": null,
      "outputs": [
        {
          "output_type": "execute_result",
          "data": {
            "application/vnd.google.colaboratory.intrinsic+json": {
              "type": "string"
            },
            "text/plain": [
              "'assdvfvsdfv'"
            ]
          },
          "metadata": {
            "tags": []
          },
          "execution_count": 87
        }
      ]
    },
    {
      "cell_type": "code",
      "metadata": {
        "id": "jtJ9mA3zMDYT"
      },
      "source": [
        ""
      ],
      "execution_count": null,
      "outputs": []
    }
  ]
}